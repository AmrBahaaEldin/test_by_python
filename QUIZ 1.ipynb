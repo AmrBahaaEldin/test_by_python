{
 "cells": [
  {
   "cell_type": "markdown",
   "metadata": {
    "collapsed": true
   },
   "source": [
    "# QUIZ\n",
    "Let's test your knowledge!"
   ]
  },
  {
   "cell_type": "markdown",
   "metadata": {},
   "source": [
    "_____\n",
    "**Use <code>for</code>, .split(), and <code>if</code> to create a Statement that will print out words that start with 's':**"
   ]
  },
  {
   "cell_type": "code",
   "execution_count": null,
   "metadata": {},
   "outputs": [],
   "source": []
  },
  {
   "cell_type": "code",
   "execution_count": 8,
   "metadata": {},
   "outputs": [
    {
     "name": "stdout",
     "output_type": "stream",
     "text": [
      "start\n",
      "s\n",
      "sentence\n"
     ]
    }
   ],
   "source": [
    "\n",
    "\n",
    "\n",
    "\n",
    "st = 'Print only the words that start with s in this sentence'\n",
    "for x in st.split():\n",
    "    if x[0] =='s':\n",
    "        print(x)\n",
    "    \n",
    "\n",
    "    \n",
    "\n",
    "    "
   ]
  },
  {
   "cell_type": "markdown",
   "metadata": {},
   "source": [
    "______\n",
    "**Use range() to print all the even numbers from 0 to 10.**"
   ]
  },
  {
   "cell_type": "code",
   "execution_count": 19,
   "metadata": {},
   "outputs": [
    {
     "name": "stdout",
     "output_type": "stream",
     "text": [
      "0\n",
      "2\n",
      "4\n",
      "6\n",
      "8\n",
      "10\n"
     ]
    }
   ],
   "source": [
    "x=range(0,11)\n",
    "for y in x:\n",
    "    if y%2==0:\n",
    "        print(y)\n",
    "\n"
   ]
  },
  {
   "cell_type": "markdown",
   "metadata": {},
   "source": [
    "___\n",
    "**Use a List Comprehension to create a list of all numbers between 1 and 50 that are divisible by 3.**"
   ]
  },
  {
   "cell_type": "code",
   "execution_count": 34,
   "metadata": {},
   "outputs": [
    {
     "name": "stdout",
     "output_type": "stream",
     "text": [
      "[3, 6, 9, 12, 15, 18, 21, 24, 27, 30, 33, 36, 39, 42, 45, 48]\n"
     ]
    }
   ],
   "source": [
    "\n",
    "my_list = [x for x in range(1,51) if x%3==0]\n",
    "print(my_list)"
   ]
  },
  {
   "cell_type": "markdown",
   "metadata": {},
   "source": [
    "_____\n",
    "**Go through the string below and if the length of a word is even print \"even!\"**"
   ]
  },
  {
   "cell_type": "code",
   "execution_count": 38,
   "metadata": {},
   "outputs": [
    {
     "name": "stdout",
     "output_type": "stream",
     "text": [
      "word\n",
      "in\n",
      "this\n",
      "sentence\n",
      "that\n",
      "an\n",
      "even\n",
      "number\n",
      "of\n"
     ]
    }
   ],
   "source": [
    "st = 'Print every word in this sentence that has an even number of letters'\n",
    "for x in st.split():\n",
    "    if len(x)%2==0:\n",
    "        print(x)\n",
    "        \n"
   ]
  },
  {
   "cell_type": "code",
   "execution_count": null,
   "metadata": {},
   "outputs": [],
   "source": []
  },
  {
   "cell_type": "markdown",
   "metadata": {},
   "source": [
    "____\n",
    "**Write a program that prints the integers from 1 to 100. But for multiples of three print \"Fizz\" instead of the number, and for the multiples of five print \"Buzz\". For numbers which are multiples of both three and five print \"FizzBuzz\".**"
   ]
  },
  {
   "cell_type": "code",
   "execution_count": 39,
   "metadata": {},
   "outputs": [
    {
     "name": "stdout",
     "output_type": "stream",
     "text": [
      "---: 1\n",
      "---: 2\n",
      "fizz 3\n",
      "---: 4\n",
      "Buzz 5\n",
      "fizz 6\n",
      "---: 7\n",
      "---: 8\n",
      "fizz 9\n",
      "Buzz 10\n",
      "---: 11\n",
      "fizz 12\n",
      "---: 13\n",
      "---: 14\n",
      "fizz 15\n",
      "---: 16\n",
      "---: 17\n",
      "fizz 18\n",
      "---: 19\n",
      "Buzz 20\n",
      "fizz 21\n",
      "---: 22\n",
      "---: 23\n",
      "fizz 24\n",
      "Buzz 25\n",
      "---: 26\n",
      "fizz 27\n",
      "---: 28\n",
      "---: 29\n",
      "fizz 30\n",
      "---: 31\n",
      "---: 32\n",
      "fizz 33\n",
      "---: 34\n",
      "Buzz 35\n",
      "fizz 36\n",
      "---: 37\n",
      "---: 38\n",
      "fizz 39\n",
      "Buzz 40\n",
      "---: 41\n",
      "fizz 42\n",
      "---: 43\n",
      "---: 44\n",
      "fizz 45\n",
      "---: 46\n",
      "---: 47\n",
      "fizz 48\n",
      "---: 49\n",
      "Buzz 50\n",
      "fizz 51\n",
      "---: 52\n",
      "---: 53\n",
      "fizz 54\n",
      "Buzz 55\n",
      "---: 56\n",
      "fizz 57\n",
      "---: 58\n",
      "---: 59\n",
      "fizz 60\n",
      "---: 61\n",
      "---: 62\n",
      "fizz 63\n",
      "---: 64\n",
      "Buzz 65\n",
      "fizz 66\n",
      "---: 67\n",
      "---: 68\n",
      "fizz 69\n",
      "Buzz 70\n",
      "---: 71\n",
      "fizz 72\n",
      "---: 73\n",
      "---: 74\n",
      "fizz 75\n",
      "---: 76\n",
      "---: 77\n",
      "fizz 78\n",
      "---: 79\n",
      "Buzz 80\n",
      "fizz 81\n",
      "---: 82\n",
      "---: 83\n",
      "fizz 84\n",
      "Buzz 85\n",
      "---: 86\n",
      "fizz 87\n",
      "---: 88\n",
      "---: 89\n",
      "fizz 90\n",
      "---: 91\n",
      "---: 92\n",
      "fizz 93\n",
      "---: 94\n",
      "Buzz 95\n",
      "fizz 96\n",
      "---: 97\n",
      "---: 98\n",
      "fizz 99\n",
      "Buzz 100\n"
     ]
    }
   ],
   "source": [
    "x= range (1,101)\n",
    "for y in x:\n",
    "    if y%3==0:\n",
    "        print('fizz',y)\n",
    "    elif y%5==0:\n",
    "        print('Buzz',y)\n",
    "    elif y%3==0 and y%5==0:\n",
    "        print('fizz and Buzz:',y )\n",
    "    else:\n",
    "        print('---:',y)\n"
   ]
  },
  {
   "cell_type": "markdown",
   "metadata": {},
   "source": [
    "____\n",
    "**Use List Comprehension to create a list of the first letters of every word in the string below:**"
   ]
  },
  {
   "cell_type": "code",
   "execution_count": 72,
   "metadata": {},
   "outputs": [
    {
     "name": "stdout",
     "output_type": "stream",
     "text": [
      "['C', 'a', 'l', 'o', 't', 'f', 'l', 'o', 'e', 'w', 'i', 't', 's']\n"
     ]
    }
   ],
   "source": [
    "\n",
    "st = 'Create a list of the first letters of every word in this string'\n",
    "my_list = [y[0]for y in st.split()]\n",
    "print(my_list)\n",
    "\n",
    "  \n",
    "    \n",
    "    \n",
    "\n"
   ]
  },
  {
   "cell_type": "code",
   "execution_count": null,
   "metadata": {},
   "outputs": [],
   "source": [
    "#Code in this cell"
   ]
  },
  {
   "cell_type": "markdown",
   "metadata": {},
   "source": [
    "### Great Job!"
   ]
  }
 ],
 "metadata": {
  "kernelspec": {
   "display_name": "Python 3.10.5 64-bit",
   "language": "python",
   "name": "python3"
  },
  "language_info": {
   "codemirror_mode": {
    "name": "ipython",
    "version": 3
   },
   "file_extension": ".py",
   "mimetype": "text/x-python",
   "name": "python",
   "nbconvert_exporter": "python",
   "pygments_lexer": "ipython3",
   "version": "3.10.5"
  },
  "vscode": {
   "interpreter": {
    "hash": "719f8d44824a1cc8fbfca6a6b794bebddb26c06cef790fa308ce2d7290b08b58"
   }
  }
 },
 "nbformat": 4,
 "nbformat_minor": 1
}
